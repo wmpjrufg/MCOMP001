{
 "cells": [
  {
   "cell_type": "markdown",
   "metadata": {
    "id": "8cc_5uKnh---"
   },
   "source": [
    "# Desafio 3: Simulador de aposentadoria"
   ]
  },
  {
   "cell_type": "markdown",
   "metadata": {
    "id": "DUuRquRN2YfD"
   },
   "source": [
    "Esse notebook tem como objetivo ser aplicado quando esse curso for ministrado no formato de _hands on_. O notebook está incompleto e precisa ser corrigido pelo aluno."
   ]
  },
  {
   "cell_type": "markdown",
   "metadata": {},
   "source": [
    "## 1. Declaração de variáveis\n",
    "\n",
    "Quais são os dados do problema?"
   ]
  },
  {
   "cell_type": "code",
   "execution_count": null,
   "metadata": {
    "colab": {
     "base_uri": "https://localhost:8080/",
     "height": 143
    },
    "id": "nbpci0RmirmY",
    "outputId": "138554c1-b0f2-4184-a651-7970e6281635"
   },
   "outputs": [],
   "source": [
    "saldo = 1000000        # Saldo inicial da conta de aposentadoria\n",
    "taxaJuros = 0.04      # Taxa de juros anual (4% ao ano)\n",
    "anos =                 # Quantidade de anos para a aposentadoria\n",
    " = 10000               # Valor mensal a ser sacado na aposentadoria"
   ]
  },
  {
   "cell_type": "markdown",
   "metadata": {},
   "source": [
    "## 2. Relatório dos dados de entrada\n",
    "\n",
    "Poderia apresentar um relatório dos dados do problema?"
   ]
  },
  {
   "cell_type": "code",
   "execution_count": null,
   "metadata": {},
   "outputs": [],
   "source": [
    "print('saldo inicial: ', saldo)\n",
    "print()\n",
    "print()"
   ]
  },
  {
   "cell_type": "markdown",
   "metadata": {},
   "source": [
    "## 3. Relatório da evolução do saldo sem custos\n",
    "\n",
    "Qual a correção do saldo em um período $t$ equivalente a 1 ano? "
   ]
  },
  {
   "cell_type": "code",
   "execution_count": null,
   "metadata": {
    "colab": {
     "base_uri": "https://localhost:8080/"
    },
    "id": "5CoGHmrXjlOB",
    "outputId": "ba62e1f7-1d91-4ca4-ccec-142cc4a71c83"
   },
   "outputs": [],
   "source": [
    "for ano in range(1, anos + 1):\n",
    "     =  * taxaJuros\n",
    "    print()"
   ]
  },
  {
   "cell_type": "markdown",
   "metadata": {
    "id": "IPRLoyqayram"
   },
   "source": [
    "## 4. Relatório da evolução do saldo com custos\n",
    "\n",
    "Vamos impor a condição de que o saque mensal seja aplicado ao longo dos 30 anos. Qual seria o valor final?"
   ]
  },
  {
   "cell_type": "code",
   "execution_count": null,
   "metadata": {
    "colab": {
     "base_uri": "https://localhost:8080/"
    },
    "id": "j0NDmE4Ajzzg",
    "outputId": "8f0bca52-ad33-46ea-d4ee-090185ec438b"
   },
   "outputs": [],
   "source": [
    "for ano in range(1, anos + 1):\n",
    "    # coloque aqui saldo corrigido\n",
    "    # aplique a correção para 12 meses\n",
    "    print('Saldo anual atualizado: R$ ', saldo)"
   ]
  },
  {
   "cell_type": "markdown",
   "metadata": {
    "id": "1UyCoqyoyxEe"
   },
   "source": [
    "## 5. Verificando o critério de inviabilidade do cenário atual de aposentadoria\n",
    "\n",
    "O plano de aposentadoria é viável ao final dos 30 anos?"
   ]
  },
  {
   "cell_type": "code",
   "execution_count": null,
   "metadata": {
    "colab": {
     "base_uri": "https://localhost:8080/",
     "height": 143
    },
    "id": "GGWmA4rck43Y",
    "outputId": "1823a026-e00d-4f80-f8ac-888f857f36c8"
   },
   "outputs": [],
   "source": [
    "for ano in range(1, anos + 1):\n",
    "    saldo += saldo * (taxaJuros)\n",
    "    saldo -= saqueMensal*12\n",
    "\n",
    "# Verifica se o saldo é suficiente para a aposentadoria\n",
    "# Critério de comparação operador lógico \n",
    "\n",
    "print(f\"Após {anos} anos de aposentadoria, o saldo é de R$ {saldo:.2f}.\")\n",
    "print(f\"Seu plano de aposentadoria é {resultado}.\")"
   ]
  },
  {
   "cell_type": "markdown",
   "metadata": {
    "id": "dMkUS7eTy--K"
   },
   "source": [
    "## 6. Implementando o recurso de função\n",
    "\n",
    "E se eu desejar repetir o processo para vários modelos de aposentadoria?"
   ]
  },
  {
   "cell_type": "code",
   "execution_count": null,
   "metadata": {},
   "outputs": [],
   "source": [
    "for ano in range(1, anos + 1):\n",
    "    saldo += saldo * (taxaJuros)\n",
    "    saldo -= saqueMensal*12\n",
    "    saldos.append(saldo)\n",
    "\n",
    "if saldo > 0:\n",
    "    resultado = \"suficiente\"\n",
    "else:\n",
    "    resultado = \"insuficiente\""
   ]
  },
  {
   "cell_type": "markdown",
   "metadata": {},
   "source": [
    "### 6.1 _Exemplo de uso_"
   ]
  },
  {
   "cell_type": "code",
   "execution_count": null,
   "metadata": {
    "colab": {
     "base_uri": "https://localhost:8080/"
    },
    "id": "_-6fUtqIm3TZ",
    "outputId": "39a92f19-4c19-4267-9498-3e6333872051"
   },
   "outputs": [],
   "source": [
    "saldo = \n",
    "taxa = \n",
    "tempo = \n",
    "saqueMes = \n",
    "\n",
    "___oque_sai___ = simulador_aposentadoria(___oque_entra___)\n",
    "\n",
    "# Imprimindo resultados\n",
    "print(f\"Após {anos} anos de aposentadoria, o saldo é de R${saldo[-1]:.2f}.\")\n",
    "print(f\"Seu plano de aposentadoria é {resultado}.\")"
   ]
  },
  {
   "cell_type": "markdown",
   "metadata": {
    "id": "2kZkltiLzHQt"
   },
   "source": [
    "## 7. Plotagem\n",
    "\n",
    "Como podemos ver o nosso cenário graficamente?"
   ]
  },
  {
   "cell_type": "code",
   "execution_count": null,
   "metadata": {
    "colab": {
     "base_uri": "https://localhost:8080/",
     "height": 541
    },
    "id": "1Y0RgYM7qFPN",
    "outputId": "e8776073-f361-4e14-cd1a-331927ae1242"
   },
   "outputs": [],
   "source": [
    "# Vamos usar uma biblioteca: Matplotlib!\n",
    "import matplotlib.pyplot as plt\n",
    "\n",
    "# Chamando a função e guardando as funções em variáveis\n",
    "saldos, resultado = calcular_aposentadoria(1000000, 0.04, 30, 10000)\n",
    "\n",
    "# Plotagem do gráfico\n",
    "anos_simulados = list(range(1, len(saldos) + 1))"
   ]
  }
 ],
 "metadata": {
  "colab": {
   "authorship_tag": "ABX9TyMnDNMUrEL7KVBnuNVsHIXL",
   "include_colab_link": true,
   "provenance": []
  },
  "kernelspec": {
   "display_name": "Python 3 (ipykernel)",
   "language": "python",
   "name": "python3"
  },
  "language_info": {
   "codemirror_mode": {
    "name": "ipython",
    "version": 3
   },
   "file_extension": ".py",
   "mimetype": "text/x-python",
   "name": "python",
   "nbconvert_exporter": "python",
   "pygments_lexer": "ipython3",
   "version": "3.10.12"
  }
 },
 "nbformat": 4,
 "nbformat_minor": 1
}
