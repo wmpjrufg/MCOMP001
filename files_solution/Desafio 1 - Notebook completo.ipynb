{
 "cells": [
  {
   "cell_type": "markdown",
   "id": "3bdcb45e",
   "metadata": {},
   "source": [
    "# Algoritmo IMC"
   ]
  },
  {
   "cell_type": "markdown",
   "id": "b3de140f",
   "metadata": {},
   "source": [
    "## 1. Construção de uma função IMC\n",
    "\n",
    "Criar uma função que determina o IMC dada que foi fornecidade um peso e altura."
   ]
  },
  {
   "cell_type": "code",
   "execution_count": 1,
   "id": "f1603262-dc50-4641-bcc4-127dcefd1265",
   "metadata": {},
   "outputs": [],
   "source": [
    "# Função para calcular o IMC\n",
    "def calcular_imc(peso, altura):\n",
    "    \"\"\"\n",
    "    Esta função determina o IMC de uma pessoa.\n",
    "    \n",
    "    Entrada:\n",
    "    peso   -> float\n",
    "    altura -> float\n",
    "    \n",
    "    Saída:\n",
    "    imc -> float\n",
    "    \"\"\"\n",
    "    imc = peso / (altura ** 2)\n",
    "    return imc"
   ]
  },
  {
   "cell_type": "markdown",
   "id": "03e844cf",
   "metadata": {},
   "source": [
    "## 2. Solicitação de dados de entrada\n",
    "\n",
    "Solicitar ao usuário o peso e a altura (Lembrar que usa-se ponto para representar a vírgula) por meio da função ```input()```."
   ]
  },
  {
   "cell_type": "code",
   "execution_count": 2,
   "id": "dda93fb7-38ad-4788-b7fc-80178d8a2ab7",
   "metadata": {},
   "outputs": [
    {
     "name": "stdout",
     "output_type": "stream",
     "text": [
      "Digite o seu peso em quilogramas: 94\n",
      "Digite a sua altura em metros: 1.74\n"
     ]
    }
   ],
   "source": [
    "peso = float(input(\"Digite o seu peso em quilogramas: \"))\n",
    "altura = float(input(\"Digite a sua altura em metros: \"))"
   ]
  },
  {
   "cell_type": "markdown",
   "id": "989a9ca0",
   "metadata": {},
   "source": [
    "## 3. Usando a função criada"
   ]
  },
  {
   "cell_type": "code",
   "execution_count": 3,
   "id": "601fafac-126b-4e48-94ce-7d66290c2abf",
   "metadata": {},
   "outputs": [
    {
     "name": "stdout",
     "output_type": "stream",
     "text": [
      "Seu IMC é: 31.04769454353283\n"
     ]
    }
   ],
   "source": [
    "imc = calcular_imc(peso, altura)\n",
    "# Exibir o resultado\n",
    "print(\"Seu IMC é:\", imc)"
   ]
  },
  {
   "cell_type": "markdown",
   "id": "5af0a860",
   "metadata": {},
   "source": [
    "## 4. Interpretar o IMC\n",
    "\n",
    "Criar os critérios de interpretação do IMC conforme tabela fornecida no desafio."
   ]
  },
  {
   "cell_type": "code",
   "execution_count": 4,
   "id": "79384ca0-2225-480f-b1f5-3090b90f1225",
   "metadata": {},
   "outputs": [
    {
     "name": "stdout",
     "output_type": "stream",
     "text": [
      "Você está obeso.\n"
     ]
    }
   ],
   "source": [
    "if imc < 18.5:\n",
    "    print(\"Você está abaixo do peso.\")\n",
    "elif 18.5 <= imc < 24.9:\n",
    "    print(\"Seu peso está dentro da faixa saudável.\")\n",
    "elif 25 <= imc < 29.9:\n",
    "    print(\"Você está com sobrepeso.\")\n",
    "else:\n",
    "    print(\"Você está obeso.\")"
   ]
  }
 ],
 "metadata": {
  "kernelspec": {
   "display_name": "Python 3 (ipykernel)",
   "language": "python",
   "name": "python3"
  },
  "language_info": {
   "codemirror_mode": {
    "name": "ipython",
    "version": 3
   },
   "file_extension": ".py",
   "mimetype": "text/x-python",
   "name": "python",
   "nbconvert_exporter": "python",
   "pygments_lexer": "ipython3",
   "version": "3.10.12"
  }
 },
 "nbformat": 4,
 "nbformat_minor": 5
}
