{
 "cells": [
  {
   "cell_type": "markdown",
   "id": "3bdcb45e",
   "metadata": {},
   "source": [
    "# Analisando o KPI de uma indústria"
   ]
  },
  {
   "cell_type": "markdown",
   "id": "b3de140f",
   "metadata": {},
   "source": [
    "## 1. Dados de Produção de Leite\n",
    "\n",
    "Todos os dados da produção de leite"
   ]
  },
  {
   "cell_type": "code",
   "execution_count": 1,
   "id": "f1603262-dc50-4641-bcc4-127dcefd1265",
   "metadata": {},
   "outputs": [],
   "source": [
    "# Dados de Produção de Leite\n",
    "dados_producao_leite = {\n",
    "    \"hora00\": {\n",
    "        \"producao_litros\": 1500,\n",
    "        \"rejeitados_litros\": 30\n",
    "    },\n",
    "    \"hora01\": {\n",
    "        \"producao_litros\": 1550,\n",
    "        \"rejeitados_litros\": 25\n",
    "    },\n",
    "    \"hora02\": {\n",
    "        \"producao_litros\": 1600,\n",
    "        \"rejeitados_litros\": 20\n",
    "    },\n",
    "    \"hora03\": {\n",
    "        \"producao_litros\": 1650,\n",
    "        \"rejeitados_litros\": 18\n",
    "    },\n",
    "    # E assim por diante para todas as 36 horas\n",
    "}"
   ]
  },
  {
   "cell_type": "markdown",
   "id": "03e844cf",
   "metadata": {},
   "source": [
    "## 2. Inicialize as variáveis para os KPIs\n"
   ]
  },
  {
   "cell_type": "code",
   "execution_count": null,
   "id": "dda93fb7-38ad-4788-b7fc-80178d8a2ab7",
   "metadata": {},
   "outputs": [],
   "source": [
    "# Inicialize as variáveis para os KPIs\n",
    "produtividade_horaria = []\n",
    "quantidade_falha = []"
   ]
  },
  {
   "cell_type": "markdown",
   "id": "989a9ca0",
   "metadata": {},
   "source": [
    "## 3. Criar a função"
   ]
  },
  {
   "cell_type": "code",
   "execution_count": null,
   "id": "601fafac-126b-4e48-94ce-7d66290c2abf",
   "metadata": {},
   "outputs": [],
   "source": [
    "# Calcule os KPIs\n",
    "for hora, dados in dados_producao_leite.items():\n",
    "    produtividade = dados[\"producao_litros\"]\n",
    "    rejeitados = dados[\"rejeitados_litros\"]\n",
    "    \n",
    "    # KPI 1: Produtividade horária de leite\n",
    "    produtividade_horaria.append(produtividade)\n",
    "    \n",
    "    # KPI 2: Quantidade em litros de leite que apresentaram falha\n",
    "    quantidade_falha.append(rejeitados)\n",
    "\n",
    "# Calcule a média da produtividade horária\n",
    "media_produtividade = sum(produtividade_horaria) / len(produtividade_horaria)\n",
    "\n",
    "# Calcule o total de litros que apresentaram falha\n",
    "total_falha = sum(quantidade_falha)"
   ]
  },
  {
   "cell_type": "markdown",
   "id": "5af0a860",
   "metadata": {},
   "source": [
    "## 4. Imprimir os resultados"
   ]
  },
  {
   "cell_type": "code",
   "execution_count": null,
   "id": "79384ca0-2225-480f-b1f5-3090b90f1225",
   "metadata": {},
   "outputs": [],
   "source": [
    "# Imprima os resultados\n",
    "print(f\"A média da produtividade horária de leite é: {media_produtividade} litros\")\n",
    "print(f\"O total de litros que apresentaram falha é: {total_falha} litros\")"
   ]
  },
  {
   "cell_type": "markdown",
   "id": "0f1af25a",
   "metadata": {},
   "source": [
    "A média da produtividade horária de leite é: 1575.0 litros\n",
    "O total de litros que apresentaram falha é: 93 litros"
   ]
  }
 ],
 "metadata": {
  "kernelspec": {
   "display_name": "Python 3 (ipykernel)",
   "language": "python",
   "name": "python3"
  },
  "language_info": {
   "codemirror_mode": {
    "name": "ipython",
    "version": 3
   },
   "file_extension": ".py",
   "mimetype": "text/x-python",
   "name": "python",
   "nbconvert_exporter": "python",
   "pygments_lexer": "ipython3",
   "version": "3.10.12"
  }
 },
 "nbformat": 4,
 "nbformat_minor": 5
}
