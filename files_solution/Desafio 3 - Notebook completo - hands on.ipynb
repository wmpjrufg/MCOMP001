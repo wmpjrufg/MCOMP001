{
 "cells": [
  {
   "cell_type": "markdown",
   "metadata": {
    "id": "8cc_5uKnh---"
   },
   "source": [
    "# Desafio 3: Simulador de aposentadoria"
   ]
  },
  {
   "cell_type": "markdown",
   "metadata": {
    "id": "DUuRquRN2YfD"
   },
   "source": [
    "Esse notebook tem como objetivo ser aplicado quando esse curso for ministrado no formato de _hands on_. Aqui é apresentada a solução via notebook Jupyter."
   ]
  },
  {
   "cell_type": "markdown",
   "metadata": {},
   "source": [
    "## 1. Declaração de variáveis"
   ]
  },
  {
   "cell_type": "markdown",
   "metadata": {},
   "source": [
    "Quais são os dados do problema?\n",
    "\n",
    "Estágio do incompleto:\n",
    "\n",
    "```python\n",
    "saldo = 1000000        # Saldo inicial da conta de aposentadoria\n",
    "taxaJuros = 0.04       # Taxa de juros anual (4% ao ano)\n",
    "anos =                 # Quantidade de anos para a aposentadoria\n",
    " = 10000               # Valor mensal a ser sacado na aposentadoria\n",
    "```"
   ]
  },
  {
   "cell_type": "code",
   "execution_count": 1,
   "metadata": {
    "colab": {
     "base_uri": "https://localhost:8080/",
     "height": 143
    },
    "id": "nbpci0RmirmY",
    "outputId": "138554c1-b0f2-4184-a651-7970e6281635"
   },
   "outputs": [],
   "source": [
    "saldo = 1000000        # Saldo inicial da conta de aposentadoria\n",
    "taxaJuros = 0.04       # Taxa de juros anual (4% ao ano)\n",
    "anos = 30              # Quantidade de anos para a aposentadoria\n",
    "saqueMensal = 10000    # Valor mensal a ser sacado na aposentadoria"
   ]
  },
  {
   "cell_type": "markdown",
   "metadata": {},
   "source": [
    "## 2. Relatório dos dados de entrada"
   ]
  },
  {
   "cell_type": "markdown",
   "metadata": {},
   "source": [
    "Poderia apresentar um relatório dos dados do problema?\n",
    "\n",
    "Aqui o aluno deverá preencher o modelo de ```print()``` podendo usar o modelo tradicional.\n",
    "\n",
    "Estágio incompleto:\n",
    "\n",
    "```python\n",
    "print('saldo inicial: ', saldo)\n",
    "print()\n",
    "print()\n",
    "```"
   ]
  },
  {
   "cell_type": "code",
   "execution_count": 2,
   "metadata": {},
   "outputs": [
    {
     "name": "stdout",
     "output_type": "stream",
     "text": [
      "saldo inicial (R$):  1000000\n",
      "taxa de juros (a.a):  4.0 %\n",
      "tempo do cenário (anos):  30\n",
      "saques mensais (R$):  10000\n"
     ]
    }
   ],
   "source": [
    "print('saldo inicial (R$): ', saldo)\n",
    "print('taxa de juros (a.a): ', taxaJuros * 100, '%')\n",
    "print('tempo do cenário (anos): ', anos)\n",
    "print('saques mensais (R$): ', saqueMensal)"
   ]
  },
  {
   "cell_type": "markdown",
   "metadata": {},
   "source": [
    "## 3. Relatório da evolução do saldo sem custos"
   ]
  },
  {
   "cell_type": "markdown",
   "metadata": {},
   "source": [
    "Qual a correção do saldo em um período $t$ equivalente a 1 ano?\n",
    "\n",
    "Aqui precisamos saber qual será a evolução do saldo caso não façamos nenhum saque no período. A correção do saldo é dado conforme a seguinte equação, onde $s^{t}$ indica o saldo do anual atual, $s^{t+1}$ indica o saldo do anual atualizado para o ano subsequente e $t_j$ indica a taxa de juro fixada.\n",
    "\n",
    "$$s^{t+1} = s^t + s^t \\cdot t_j$$\n",
    "\n",
    "Aqui o aluno deverá o ```for``` colocando a fórmula supracitada. O ```print()```deverá ser preenchido com saldo.\n",
    "\n",
    "Estágio incompleto:\n",
    "\n",
    "```python\n",
    "for ano in range(1, anos + 1):\n",
    "     =  * taxaJuros\n",
    "    print()\n",
    "```"
   ]
  },
  {
   "cell_type": "code",
   "execution_count": 3,
   "metadata": {
    "colab": {
     "base_uri": "https://localhost:8080/"
    },
    "id": "5CoGHmrXjlOB",
    "outputId": "ba62e1f7-1d91-4ca4-ccec-142cc4a71c83"
   },
   "outputs": [
    {
     "name": "stdout",
     "output_type": "stream",
     "text": [
      "R$:  1040000.0\n",
      "R$:  1081600.0\n",
      "R$:  1124864.0\n",
      "R$:  1169858.56\n",
      "R$:  1216652.9024\n",
      "R$:  1265319.018496\n",
      "R$:  1315931.77923584\n",
      "R$:  1368569.0504052737\n",
      "R$:  1423311.8124214846\n",
      "R$:  1480244.284918344\n",
      "R$:  1539454.056315078\n",
      "R$:  1601032.218567681\n",
      "R$:  1665073.5073103884\n",
      "R$:  1731676.4476028038\n",
      "R$:  1800943.505506916\n",
      "R$:  1872981.2457271926\n",
      "R$:  1947900.4955562802\n",
      "R$:  2025816.5153785315\n",
      "R$:  2106849.1759936726\n",
      "R$:  2191123.1430334193\n",
      "R$:  2278768.068754756\n",
      "R$:  2369918.791504946\n",
      "R$:  2464715.543165144\n",
      "R$:  2563304.1648917496\n",
      "R$:  2665836.3314874195\n",
      "R$:  2772469.7847469165\n",
      "R$:  2883368.576136793\n",
      "R$:  2998703.3191822646\n",
      "R$:  3118651.4519495554\n",
      "R$:  3243397.5100275376\n"
     ]
    }
   ],
   "source": [
    "for ano in range(1, anos + 1):\n",
    "    saldo =  saldo + saldo * taxaJuros\n",
    "    print('R$: ', saldo)"
   ]
  },
  {
   "cell_type": "markdown",
   "metadata": {
    "id": "IPRLoyqayram"
   },
   "source": [
    "## 4. Relatório da evolução do saldo com custos\n",
    "\n",
    "Vamos impor a condição de que o saque mensal seja aplicado ao longo dos 30 anos. Qual seria o valor final?\n",
    "\n",
    "Aqui o aluno deverá determinar o ```saldo``` da mesma forma que o sistema anterior e agora também deverá ser registrado o custo anual $saldo = saldo - saques \\cdot 12$. \n",
    "\n",
    "Estágio incompleto:\n",
    "\n",
    "```python\n",
    "for ano in range(1, anos + 1):\n",
    "    # coloque aqui saldo corrigido\n",
    "    # aplique a correção para 12 meses\n",
    "    print('Saldo anual atualizado: R$ ', saldo)\n",
    "```"
   ]
  },
  {
   "cell_type": "code",
   "execution_count": 4,
   "metadata": {
    "colab": {
     "base_uri": "https://localhost:8080/"
    },
    "id": "j0NDmE4Ajzzg",
    "outputId": "8f0bca52-ad33-46ea-d4ee-090185ec438b"
   },
   "outputs": [
    {
     "name": "stdout",
     "output_type": "stream",
     "text": [
      "Saldo anual atualizado: R$  920000.0\n",
      "Saldo anual atualizado: R$  836800.0\n",
      "Saldo anual atualizado: R$  750272.0\n",
      "Saldo anual atualizado: R$  660282.88\n",
      "Saldo anual atualizado: R$  566694.1952\n",
      "Saldo anual atualizado: R$  469361.96300799993\n",
      "Saldo anual atualizado: R$  368136.4415283199\n",
      "Saldo anual atualizado: R$  262861.8991894527\n",
      "Saldo anual atualizado: R$  153376.37515703082\n",
      "Saldo anual atualizado: R$  39511.43016331206\n",
      "Saldo anual atualizado: R$  -78908.11263015546\n",
      "Saldo anual atualizado: R$  -202064.43713536166\n",
      "Saldo anual atualizado: R$  -330147.0146207761\n",
      "Saldo anual atualizado: R$  -463352.8952056072\n",
      "Saldo anual atualizado: R$  -601887.0110138315\n",
      "Saldo anual atualizado: R$  -745962.4914543848\n",
      "Saldo anual atualizado: R$  -895800.9911125602\n",
      "Saldo anual atualizado: R$  -1051633.0307570626\n",
      "Saldo anual atualizado: R$  -1213698.3519873451\n",
      "Saldo anual atualizado: R$  -1382246.286066839\n",
      "Saldo anual atualizado: R$  -1557536.1375095125\n",
      "Saldo anual atualizado: R$  -1739837.583009893\n",
      "Saldo anual atualizado: R$  -1929431.0863302888\n",
      "Saldo anual atualizado: R$  -2126608.3297835\n",
      "Saldo anual atualizado: R$  -2331672.66297484\n",
      "Saldo anual atualizado: R$  -2544939.5694938335\n",
      "Saldo anual atualizado: R$  -2766737.152273587\n",
      "Saldo anual atualizado: R$  -2997406.6383645306\n",
      "Saldo anual atualizado: R$  -3237302.903899112\n",
      "Saldo anual atualizado: R$  -3486795.020055076\n"
     ]
    }
   ],
   "source": [
    "# Aqui tem que rodar duas vezes para ver o  erro do saldo (deixa sem saldo e depois coloca o saldo)\n",
    "saldo = 1000000\n",
    "for ano in range(1, anos + 1):\n",
    "    saldo =  saldo + saldo * taxaJuros\n",
    "    saldo -= saqueMensal * 12\n",
    "    print('Saldo anual atualizado: R$ ', saldo)"
   ]
  },
  {
   "cell_type": "markdown",
   "metadata": {
    "id": "1UyCoqyoyxEe"
   },
   "source": [
    "## 5. Verificando o critério de inviabilidade do cenário atual de aposentadoria\n",
    "\n",
    "O plano de aposentadoria é viável ao final dos 30 anos?\n",
    "\n",
    "Deverá ser impletado um ```if``` para estabeler se o saldo é suficiente ou insuficiente.\n",
    "\n",
    "Estágio incompleto:\n",
    "\n",
    "```python\n",
    "for ano in range(1, anos + 1):\n",
    "    saldo += saldo * (taxaJuros)\n",
    "    saldo -= saqueMensal*12\n",
    "\n",
    "# Verifica se o saldo é suficiente para a aposentadoria\n",
    "# Critério de comparação operador lógico \n",
    "\n",
    "print(f\"Após {anos} anos de aposentadoria, o saldo é de R$ {saldo:.2f}.\")\n",
    "print(f\"Seu plano de aposentadoria é {resultado}.\")\n",
    "```"
   ]
  },
  {
   "cell_type": "code",
   "execution_count": 5,
   "metadata": {
    "colab": {
     "base_uri": "https://localhost:8080/",
     "height": 143
    },
    "id": "GGWmA4rck43Y",
    "outputId": "1823a026-e00d-4f80-f8ac-888f857f36c8"
   },
   "outputs": [
    {
     "name": "stdout",
     "output_type": "stream",
     "text": [
      "Após 30 anos de aposentadoria, o saldo é de R$ -18039254.82.\n",
      "Seu plano de aposentadoria é insuficiente.\n"
     ]
    }
   ],
   "source": [
    "for ano in range(1, anos + 1):\n",
    "    saldo += saldo * (taxaJuros)\n",
    "    saldo -= saqueMensal * 12\n",
    "\n",
    "if saldo < 0:\n",
    "    resultado = \"insuficiente\"\n",
    "elif saldo > 0:\n",
    "    resultado = \"suficiente\"\n",
    "\n",
    "print(f\"Após {anos} anos de aposentadoria, o saldo é de R$ {saldo:.2f}.\")\n",
    "print(f\"Seu plano de aposentadoria é {resultado}.\")"
   ]
  },
  {
   "cell_type": "markdown",
   "metadata": {
    "id": "dMkUS7eTy--K"
   },
   "source": [
    "## 6. Implementando o recurso de função\n",
    "\n",
    "E se eu desejar repetir o processo para vários modelos de aposentadoria?\n",
    "\n",
    "Aqui será necessário fazer o uso de funções Python ```def``` para que o processo simular uma aposentadoria possa ser feito várias vezes.\n",
    "\n",
    "Lembrar de colocar _doc strings_, _return_ e _variáveis de entrada_.\n",
    "\n",
    "Estágio incompleto:\n",
    "\n",
    "\n",
    "```python\n",
    "for ano in range(1, anos + 1):\n",
    "    saldo += saldo * (taxaJuros)\n",
    "    saldo -= saqueMensal*12\n",
    "    saldos.append(saldo)\n",
    "\n",
    "if saldo > 0:\n",
    "    resultado = \"suficiente\"\n",
    "else:\n",
    "    resultado = \"insuficiente\"\n",
    "```"
   ]
  },
  {
   "cell_type": "code",
   "execution_count": 6,
   "metadata": {},
   "outputs": [],
   "source": [
    "def simulador_aposentadoria(saldo, taxaJuros, anos, saqueMensal):\n",
    "    \"\"\"\n",
    "    Esta função determina o saldo de uma aposentadoria considerando um valor saqueMensal por mês.\n",
    "\n",
    "    Entrada:\n",
    "    saldo       -> float\n",
    "    taxaJuros   -> float\n",
    "    anos        -> int\n",
    "    saqueMensal -> float\n",
    "\n",
    "    Saída:\n",
    "    saldos   -> list\n",
    "    resultdo -> string\n",
    "    \"\"\"\n",
    "    saldos = []\n",
    "\n",
    "    for ano in range(1, anos + 1):\n",
    "        saldo += saldo * (taxaJuros)\n",
    "        saldo -= saqueMensal*12\n",
    "        saldos.append(saldo)\n",
    "\n",
    "    if saldo > 0:\n",
    "        resultado = \"suficiente\"\n",
    "    else:\n",
    "        resultado = \"insuficiente\"\n",
    "\n",
    "    return saldos, resultado"
   ]
  },
  {
   "cell_type": "markdown",
   "metadata": {},
   "source": [
    "### 6.1 _Exemplo de uso_\n",
    "\n",
    "Estágio incompleto:\n",
    "\n",
    "```python\n",
    "saldo = \n",
    "taxa = \n",
    "tempo = \n",
    "saqueMes = \n",
    "\n",
    "___oque_sai___ = simulador_aposentadoria(___oque_entra___)\n",
    "\n",
    "# Imprimindo resultados\n",
    "print(f\"Após {anos} anos de aposentadoria, o saldo é de R${saldo[-1]:.2f}.\")\n",
    "print(f\"Seu plano de aposentadoria é {resultado}.\")\n",
    "```"
   ]
  },
  {
   "cell_type": "code",
   "execution_count": 7,
   "metadata": {
    "colab": {
     "base_uri": "https://localhost:8080/"
    },
    "id": "_-6fUtqIm3TZ",
    "outputId": "39a92f19-4c19-4267-9498-3e6333872051"
   },
   "outputs": [
    {
     "name": "stdout",
     "output_type": "stream",
     "text": [
      "Após 30 anos de aposentadoria, o saldo é de R$-3486795.02.\n",
      "Seu plano de aposentadoria é insuficiente.\n"
     ]
    }
   ],
   "source": [
    "saldo = 1000000\n",
    "taxa = 0.04\n",
    "tempo = 30\n",
    "saqueMes = 10000\n",
    "\n",
    "saldos, resultado = simulador_aposentadoria(saldo, taxa, tempo, saqueMes)\n",
    "\n",
    "# Imprimindo resultados\n",
    "print(f\"Após {anos} anos de aposentadoria, o saldo é de R${saldos[-1]:.2f}.\")\n",
    "print(f\"Seu plano de aposentadoria é {resultado}.\")"
   ]
  },
  {
   "cell_type": "markdown",
   "metadata": {
    "id": "2kZkltiLzHQt"
   },
   "source": [
    "## 7. Plotagem\n",
    "\n",
    "Como podemos ver o nosso cenário graficamente?\n",
    "\n",
    "Para ver o cenário financeiro vamos usar o recurso gráfico do Python: ```import matplotlib.pyplot as plt```\n",
    "\n",
    "Estágio incompleto:\n",
    "\n",
    "```python\n",
    "# Vamos usar uma biblioteca: Matplotlib!\n",
    "import matplotlib.pyplot as plt\n",
    "\n",
    "# Chamando a função e guardando as funções em variáveis\n",
    "saldos, resultado = calcular_aposentadoria(1000000, 0.04, 30, 10000)\n",
    "\n",
    "# Plotagem do gráfico\n",
    "anos_simulados = list(range(1, len(saldos) + 1))\n",
    "```"
   ]
  },
  {
   "cell_type": "code",
   "execution_count": 8,
   "metadata": {
    "colab": {
     "base_uri": "https://localhost:8080/",
     "height": 541
    },
    "id": "1Y0RgYM7qFPN",
    "outputId": "e8776073-f361-4e14-cd1a-331927ae1242"
   },
   "outputs": [
    {
     "data": {
      "image/png": "[encoded data removed]",
      "text/plain": [
       "<Figure size 432x288 with 1 Axes>"
      ]
     },
     "metadata": {
      "needs_background": "light"
     },
     "output_type": "display_data"
    }
   ],
   "source": [
    "# Vamos usar uma biblioteca: Matplotlib!\n",
    "import matplotlib.pyplot as plt\n",
    "\n",
    "# Chamando a função e guardando as funções em variáveis\n",
    "saldos, resultado = simulador_aposentadoria(1000000, 0.04, 30, 10000)\n",
    "saldos = [i / 1e4 for i in saldos]\n",
    "\n",
    "# Plotagem do gráfico\n",
    "anos_simulados = list(range(1, len(saldos) + 1))\n",
    "plt.plot(anos_simulados, saldos)\n",
    "plt.xlabel(\"Anos de Aposentadoria\")\n",
    "plt.ylabel(\"Saldo em (R$ / 10.000)\")\n",
    "plt.title(\"Evolução do Saldo de Aposentadoria ao Longo do Tempo\")\n",
    "plt.grid(True)\n",
    "plt.show()"
   ]
  }
 ],
 "metadata": {
  "colab": {
   "authorship_tag": "ABX9TyMnDNMUrEL7KVBnuNVsHIXL",
   "include_colab_link": true,
   "provenance": []
  },
  "kernelspec": {
   "display_name": "Python 3 (ipykernel)",
   "language": "python",
   "name": "python3"
  },
  "language_info": {
   "codemirror_mode": {
    "name": "ipython",
    "version": 3
   },
   "file_extension": ".py",
   "mimetype": "text/x-python",
   "name": "python",
   "nbconvert_exporter": "python",
   "pygments_lexer": "ipython3",
   "version": "3.10.12"
  }
 },
 "nbformat": 4,
 "nbformat_minor": 1
}
