{
 "cells": [
  {
   "cell_type": "code",
   "execution_count": 3,
   "id": "f1603262-dc50-4641-bcc4-127dcefd1265",
   "metadata": {},
   "outputs": [],
   "source": [
    "# Função para calcular o IMC\n",
    "def calcular_imc(peso, altura):\n",
    "    imc = peso / (altura ** 2)\n",
    "    return imc"
   ]
  },
  {
   "cell_type": "code",
   "execution_count": 4,
   "id": "dda93fb7-38ad-4788-b7fc-80178d8a2ab7",
   "metadata": {},
   "outputs": [
    {
     "name": "stdin",
     "output_type": "stream",
     "text": [
      "Digite o seu peso em quilogramas:  58\n",
      "Digite a sua altura em metros:  1.74\n"
     ]
    }
   ],
   "source": [
    "# Solicitar ao usuário o peso e a altura (Lembrar que usa-se ponto para representar a vírgula)\n",
    "peso = float(input(\"Digite o seu peso em quilogramas: \"))\n",
    "altura = float(input(\"Digite a sua altura em metros: \"))"
   ]
  },
  {
   "cell_type": "code",
   "execution_count": 5,
   "id": "601fafac-126b-4e48-94ce-7d66290c2abf",
   "metadata": {},
   "outputs": [],
   "source": [
    "# Calcular o IMC\n",
    "imc = calcular_imc(peso, altura)"
   ]
  },
  {
   "cell_type": "code",
   "execution_count": 6,
   "id": "ab9bf82a-7c42-4c4c-b317-d3b47c068882",
   "metadata": {},
   "outputs": [
    {
     "name": "stdout",
     "output_type": "stream",
     "text": [
      "Seu IMC é: 19.157088122605362\n"
     ]
    }
   ],
   "source": [
    "# Exibir o resultado\n",
    "print(\"Seu IMC é:\", imc)"
   ]
  },
  {
   "cell_type": "code",
   "execution_count": 7,
   "id": "79384ca0-2225-480f-b1f5-3090b90f1225",
   "metadata": {},
   "outputs": [
    {
     "name": "stdout",
     "output_type": "stream",
     "text": [
      "Seu peso está dentro da faixa saudável.\n"
     ]
    }
   ],
   "source": [
    "# Interpretar o IMC\n",
    "if imc < 18.5:\n",
    "    print(\"Você está abaixo do peso.\")\n",
    "elif 18.5 <= imc < 24.9:\n",
    "    print(\"Seu peso está dentro da faixa saudável.\")\n",
    "elif 25 <= imc < 29.9:\n",
    "    print(\"Você está com sobrepeso.\")\n",
    "else:\n",
    "    print(\"Você está obeso.\")"
   ]
  }
 ],
 "metadata": {
  "kernelspec": {
   "display_name": "Python 3 (ipykernel)",
   "language": "python",
   "name": "python3"
  },
  "language_info": {
   "codemirror_mode": {
    "name": "ipython",
    "version": 3
   },
   "file_extension": ".py",
   "mimetype": "text/x-python",
   "name": "python",
   "nbconvert_exporter": "python",
   "pygments_lexer": "ipython3",
   "version": "3.11.4"
  }
 },
 "nbformat": 4,
 "nbformat_minor": 5
}
