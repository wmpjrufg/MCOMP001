{
 "cells": [
  {
   "cell_type": "markdown",
   "id": "f91eb0be",
   "metadata": {},
   "source": [
    "# Estruturas condicionais e alternativas e estruturas de repetição\n",
    "\n",
    "IF, ELIF, ELSE, FOR e WHILE"
   ]
  },
  {
   "cell_type": "markdown",
   "id": "abfcbb22",
   "metadata": {},
   "source": [
    "<div style=\"text-align: justify;\">\n",
    "Durante o processo de programação, é comum nos depararmos com a necessidade de executar determinada parte do bloco de código somente caso uma condição espeficia seja atendida. Nestes casos, faz-se necessário utilizar estruturas da linguaguem de programação que permitam realizar verificações e decisões lógicas. Em Python, tais estruturas são denominadas estruturas condicionais e alternativas, e permitem com que um programa tome decisões lógicas com base em condições especificadas.\n",
    "\n",
    "De modo geral, podem ser identificadas três estruturas condicionais básicas em python:\n",
    "\n",
    "| Comando  | Significado                  | Uso                                                         |\n",
    "|----------|-----------------------------|-------------------------------------------------------------|\n",
    "| `if`     | Se a condição for verdadeira | Executa um bloco de código se a condição especificada for verdadeira.                  |\n",
    "| `else`   | Senão                       | Executa um bloco de código alternativo se a condição do `if` não for verdadeira.        |\n",
    "| `elif`   | Senão se                    | Verifica múltiplas condições sequencialmente e executa o bloco associado à primeira condição verdadeira. |\n",
    "\n",
    "O `if` é utilziado para executar um bloco de código somente se uma determinada condição for verdadeira. O código dentro do bloco `if` será executado apenas se a condição especificada for avaliada como verdadeira. Caso contrário, o bloco `if` é ignorado e o programa continua em o código subsequente.\n",
    "\n",
    "</div>"
   ]
  },
  {
   "cell_type": "code",
   "execution_count": 3,
   "id": "a07dc101",
   "metadata": {},
   "outputs": [
    {
     "name": "stdout",
     "output_type": "stream",
     "text": [
      "Você é maior de idade.\n"
     ]
    }
   ],
   "source": [
    "idade = 18\n",
    "if idade >= 18:\n",
    "    print(\"Você é maior de idade.\")\n"
   ]
  },
  {
   "cell_type": "markdown",
   "id": "34b46324",
   "metadata": {},
   "source": [
    "<div style=\"text-align: justify;\">\n",
    "O `else` é utilizado em conjunto com o `if` para executar um bloco de código alternativo quando a condição do `if` não for verdadeira. Ele oferece uma opção quando a condição não é atendida, permitindo que o programa tome diferentes caminhos dependendo da condição.\n",
    "</div>"
   ]
  },
  {
   "cell_type": "code",
   "execution_count": 4,
   "id": "6c540d7d",
   "metadata": {},
   "outputs": [
    {
     "name": "stdout",
     "output_type": "stream",
     "text": [
      "Você é menor de idade.\n"
     ]
    }
   ],
   "source": [
    "idade = 15\n",
    "if idade >= 18:\n",
    "    print(\"Você é maior de idade.\")\n",
    "else:\n",
    "    print(\"Você é menor de idade.\")\n"
   ]
  },
  {
   "cell_type": "markdown",
   "id": "d878f2f3",
   "metadata": {},
   "source": [
    "<div style=\"text-align: justify;\">\n",
    "O `elif` é uma abreviação de \"else if\" e é usado quando se tem várias condições para verificar em sequência. Ele permite que você verifique mais de uma condição e execute o bloco de código associado à primeira condição verdadeira. O `elif` é útil para tomar decisões diferentes com base em cenários específicos. \n",
    "</div>"
   ]
  },
  {
   "cell_type": "code",
   "execution_count": 5,
   "id": "0e824dad",
   "metadata": {},
   "outputs": [
    {
     "name": "stdout",
     "output_type": "stream",
     "text": [
      "Nota B\n"
     ]
    }
   ],
   "source": [
    "nota = 85\n",
    "if nota >= 90:\n",
    "    print(\"Nota A\")\n",
    "elif nota >= 80:\n",
    "    print(\"Nota B\")\n",
    "elif nota >= 70:\n",
    "    print(\"Nota C\")\n",
    "else:\n",
    "    print(\"Nota abaixo de C\")\n"
   ]
  },
  {
   "cell_type": "markdown",
   "id": "5a705fe8",
   "metadata": {},
   "source": [
    "Aliado a utilização das estruturas condicionais, tem-se a utilização dos **Operadores**. Os operadores permitem comparar valores e validar as expressões lógicas para determinar se uma condição é verdadeira ou falsa.\n",
    "\n",
    "**1. Operadores de comparação:**\n",
    "\n",
    "Os operadores de comparação são usados para comparar valores e determinar relações entre eles:\n",
    "\n",
    "* `==` (igual a): Verifica se dois valores são iguais.\n",
    "* `!=` (diferente de): Verifica se dois valores são diferentes.\n",
    "* `>` (maior que): Verifica se o valor à esquerda é maior que o valor à direita.\n",
    "* `<` (menor que): Verifica se o valor à esquerda é menor que o valor à direita.\n",
    "* `>=` (maior ou igual a): Verifica se o valor à esquerda é maior ou igual ao valor à direita.\n",
    "* `<=` (menor ou igual a): Verifica se o valor à esquerda é menor ou igual ao valor à direita.\n",
    "\n",
    "**2. Operadores Lógicos:**\n",
    "\n",
    "Os operadores lógicos são usados para combinar expressões lógicas e avaliar múltiplas condições. \n",
    "\n",
    "* `and` (e): Retorna verdadeiro se ambas as condições forem verdadeiras.\n",
    "* `or` (ou): Retorna verdadeiro se pelo menos uma das condições for verdadeira.\n",
    "* `not` (não): Inverte o valor de verdadeiro para falso e vice-versa."
   ]
  },
  {
   "cell_type": "code",
   "execution_count": 6,
   "id": "ac3f7069",
   "metadata": {},
   "outputs": [
    {
     "name": "stdout",
     "output_type": "stream",
     "text": [
      "Você pode dirigir.\n"
     ]
    }
   ],
   "source": [
    "# Exemplo 1:\n",
    "\n",
    "idade = 25\n",
    "tem_carteira = True\n",
    "\n",
    "if idade >= 18 and tem_carteira:\n",
    "    print(\"Você pode dirigir.\")\n",
    "else:\n",
    "    print(\"Você não pode dirigir.\")\n"
   ]
  },
  {
   "cell_type": "code",
   "execution_count": 7,
   "id": "73f6b094",
   "metadata": {},
   "outputs": [
    {
     "name": "stdout",
     "output_type": "stream",
     "text": [
      "Desculpe, você não pode entrar.\n"
     ]
    }
   ],
   "source": [
    "# Exemplo 2:\n",
    "\n",
    "idade = 17\n",
    "tem_permissao = False\n",
    "\n",
    "if idade >= 18 or tem_permissao:\n",
    "    print(\"Você pode entrar no evento.\")\n",
    "else:\n",
    "    print(\"Desculpe, você não pode entrar.\")\n"
   ]
  },
  {
   "cell_type": "code",
   "execution_count": 8,
   "id": "1c2cb43a",
   "metadata": {},
   "outputs": [
    {
     "name": "stdout",
     "output_type": "stream",
     "text": [
      "Você não tem permissão para acessar esta área.\n"
     ]
    }
   ],
   "source": [
    "# Exemplo 3:\n",
    "\n",
    "tem_permissao = False\n",
    "\n",
    "if not tem_permissao:\n",
    "    print(\"Você não tem permissão para acessar esta área.\")\n",
    "else:\n",
    "    print(\"Bem-vindo à área restrita.\")\n"
   ]
  },
  {
   "cell_type": "markdown",
   "id": "b520aeb1",
   "metadata": {},
   "source": [
    "**3. Operadores de Pertencimento e Identidade:**\n",
    "\n",
    "* `in`: Verifica se um valor está presente em uma sequência.\n",
    "* `not in`: Verifica se um valor não está presente em uma sequência.\n",
    "* `is`: Verifica se dois objetos têm a mesma identidade (referem-se ao mesmo objeto na memória).\n",
    "* `is not`: Verifica se dois objetos não têm a mesma identidade.\n"
   ]
  },
  {
   "cell_type": "code",
   "execution_count": 9,
   "id": "f9b5ca00",
   "metadata": {},
   "outputs": [
    {
     "name": "stdout",
     "output_type": "stream",
     "text": [
      "A banana está na lista de frutas.\n"
     ]
    }
   ],
   "source": [
    "# Exemplo 1:\n",
    "\n",
    "frutas = [\"maçã\", \"banana\", \"laranja\"]\n",
    "\n",
    "if \"banana\" in frutas:\n",
    "    print(\"A banana está na lista de frutas.\")\n",
    "else:\n",
    "    print(\"A banana não está na lista de frutas.\")"
   ]
  },
  {
   "cell_type": "code",
   "execution_count": 10,
   "id": "444d4523",
   "metadata": {},
   "outputs": [
    {
     "name": "stdout",
     "output_type": "stream",
     "text": [
      "O morango não está na lista de frutas.\n"
     ]
    }
   ],
   "source": [
    "# Exemplo 2:\n",
    "\n",
    "frutas = [\"maçã\", \"banana\", \"laranja\"]\n",
    "\n",
    "if \"morango\" not in frutas:\n",
    "    print(\"O morango não está na lista de frutas.\")\n",
    "else:\n",
    "    print(\"O morango está na lista de frutas.\")"
   ]
  },
  {
   "cell_type": "code",
   "execution_count": 11,
   "id": "096da714",
   "metadata": {},
   "outputs": [
    {
     "name": "stdout",
     "output_type": "stream",
     "text": [
      "x e y referem-se ao mesmo objeto na memória.\n"
     ]
    }
   ],
   "source": [
    "# Exemplo 3:\n",
    "\n",
    "x = [1, 2, 3]\n",
    "y = x\n",
    "\n",
    "if x is y:\n",
    "    print(\"x e y referem-se ao mesmo objeto na memória.\")\n",
    "else:\n",
    "    print(\"x e y não são o mesmo objeto na memória.\")\n"
   ]
  },
  {
   "cell_type": "code",
   "execution_count": 12,
   "id": "dd1af4a0",
   "metadata": {},
   "outputs": [
    {
     "name": "stdout",
     "output_type": "stream",
     "text": [
      "a e b não referem-se ao mesmo objeto na memória.\n"
     ]
    }
   ],
   "source": [
    "# Exemplo 4:\n",
    "\n",
    "a = [4, 5, 6]\n",
    "b = [4, 5, 6]\n",
    "\n",
    "if a is not b:\n",
    "    print(\"a e b não referem-se ao mesmo objeto na memória.\")\n",
    "else:\n",
    "    print(\"a e b são o mesmo objeto na memória.\")\n"
   ]
  },
  {
   "cell_type": "markdown",
   "id": "e13d7191",
   "metadata": {},
   "source": [
    "<div style=\"text-align: justify;\">\n",
    "No entanto, a programação em geral não se limita apenas à tomada de decisões; muitas vezes, precisamos realizar ações repetivivas para processar dados, aplicar transformações ou iterar por coleções. No contexto da programação, a iteração é um conceito fundamental e refere-se à capacidade de realizar repetições controladas e automatizadas de um bloco de código. Esse conceito é fundamental para lidar com tarefas que envolvem processamento de dados, transformações em massa e manipulação de elementos em sequências. A iteração permite com que programadores reduzam redundâncias de código, aumentem a eficiência e alcancem resultados consistentes. O processo de iteração pode ser comparado a uma assistente incansável, que sempre irá executar a mesma tarefa repetidamente, sem que seja necessário repetir o mesmo código de forma manual. É neste contexto que as estruturas de repetição em Python `for` e `while` estão inseridas.\n",
    "\n",
    "O comando `for` é particularmente útil quando se trata de sequências conhecidas, como listas, strings ou intervalos numéricos. Ele automatiza o processo de percorrer cada elemento da sequência e executar um bloco de código específico para cada um deles. Isso simplifica a tarefa de processar conjuntos de dados e reduz de maneira significativa o risco de erros humanos.\n",
    "\n",
    "Já o comando `while` é usado quando a repetição precisa ser baseada em uma condição que é continuamente verificada. Enquanto a condição especificada for verdadeira, o bloco de código dentro do `while` continuará a ser executado repetidamente. Isso é especialmente útil quando a quantidade de repetições não é previsível previamente, ou quando se deseja iterar até que uma condição específica seja atendida.\n",
    "\n",
    "Por exemplo: imaginemos que seja necessário calcular a média de dez números diferentes. Em vez de escrever a fórmula de média dez vezes consecutivas, pode-se tão somente utilizar um laço `for` para iterar sobre os números, acumulando-os e, em seguida, dividindo pelo total. Isso economiza tempo, mantém o código limpo e minimiza erros.\n",
    "</div>"
   ]
  },
  {
   "cell_type": "code",
   "execution_count": 2,
   "id": "3139848f",
   "metadata": {},
   "outputs": [
    {
     "name": "stdout",
     "output_type": "stream",
     "text": [
      "A média dos números é: 55.0\n"
     ]
    }
   ],
   "source": [
    "numeros = [10, 20, 30, 40, 50, 60, 70, 80, 90, 100]\n",
    "\n",
    "# Variável para armazenar a soma dos números\n",
    "soma = 0\n",
    "\n",
    "for numero in numeros:\n",
    "    soma += numero\n",
    "\n",
    "media = soma / len(numeros)\n",
    "\n",
    "print(\"A média dos números é:\", media)\n"
   ]
  },
  {
   "cell_type": "markdown",
   "id": "c0e8ea35",
   "metadata": {},
   "source": [
    "<div style=\"text-align: justify;\">\n",
    "É importante ressaltar que as estruturas de repetição `for` e `while` trabalham em sinergia com as estruturas condicionais `if`, `else` e `elif`. Isso significa que pode-se usar decisões lógicas dentro de um loop de repetição para adaptar o comportamento do programa conforme necessário. Essa combinação permite criar soluções mais poderosas, onde cada iteração é moldada pela tomada de decisões. \n",
    "\n",
    "Além de tornar o código mais organizado e lógico, a utilização de estruturas condicionais e de repetição na programação pode ter um impacto significativo na eficiência do processamento de dados. Essas estruturas não apenas permitem que um programa tome decisões lógicas com base em condições específicas, mas também podem reduzir o tempo de execução e o consumo de memória, resultando em programas mais rápidos e eficazes. \n",
    "\n",
    "As estruturas condicionais como `if`, `else` e `elif` são essenciais para direcionar o fluxo do programa com base em diferentes cenários. Ao tomar decisões lógicas, pode-se evitar a execução desnecessária de blocos de código, economizando tempo de processamento.\n",
    "\n",
    "Da mesma forma, as estruturas de repetição, como `for` e `while` também podem contribuir para uma otimização do consumo de memória. Ao processar grandes conjuntos de dados, a iteração controlada permite que você processe um elemento de cada vez, evitando a necessidade de armazenar todos os dados na memória de uma só vez. Isso é especialmente importante em situações onde a memória é um recurso limitado. A iteração também pode ser usada para evitar o armazenamento excessivo de informações temporárias, o que contribui para a eficiência geral do programa. \n",
    "\n",
    "A verdadeira eficiência é alcançada quando as estruturas condicionais e de repetição são utilizadas em conjunto de maneira inteligente. Ao aplicar estruturas condicionais dentro de loops de repetição, pode-se garantir que os códigos desnecessários sejam ignorados, e apenas as ações relevantes sejam executadas, resultando em processamento rápido e preciso.\n",
    "\n",
    "Para entendermos melhor a necessidade e a estruturação desses comandos, tome note dos exemplos abaixo:\n",
    "</div>"
   ]
  },
  {
   "cell_type": "code",
   "execution_count": 14,
   "id": "f940cd23",
   "metadata": {},
   "outputs": [
    {
     "name": "stdout",
     "output_type": "stream",
     "text": [
      "Contador: 0\n",
      "Contador: 1\n",
      "Contador: 2\n",
      "Contador: 3\n",
      "Contador: 4\n"
     ]
    }
   ],
   "source": [
    "# Exemplo 'while'\n",
    "\n",
    "contador = 0\n",
    "\n",
    "while contador < 5:\n",
    "    print(\"Contador:\", contador)\n",
    "    contador += 1\n"
   ]
  },
  {
   "cell_type": "code",
   "execution_count": 5,
   "id": "57f1c660",
   "metadata": {},
   "outputs": [
    {
     "name": "stdout",
     "output_type": "stream",
     "text": [
      "Contagem regressiva para o número 2:\n",
      "2\n",
      "1\n",
      "Contagem regressiva concluída!\n",
      "\n",
      "Contagem regressiva para o número 3:\n",
      "3\n",
      "2\n",
      "1\n",
      "Contagem regressiva concluída!\n",
      "\n",
      "Contagem regressiva para o número 5:\n",
      "5\n",
      "4\n",
      "3\n",
      "2\n",
      "1\n",
      "Contagem regressiva concluída!\n",
      "\n"
     ]
    }
   ],
   "source": [
    "# Exemplo 'for' com 'while'\n",
    "\n",
    "for numero in numeros:\n",
    "    print(f\"Contagem regressiva para o número {numero}:\")\n",
    "\n",
    "    contador = numero\n",
    "    while contador >= 1:\n",
    "        print(contador)\n",
    "        contador -= 1\n",
    "\n",
    "    print(\"Contagem regressiva concluída!\\n\")\n",
    "\n"
   ]
  },
  {
   "cell_type": "code",
   "execution_count": 6,
   "id": "32750383",
   "metadata": {},
   "outputs": [
    {
     "name": "stdout",
     "output_type": "stream",
     "text": [
      "Verificando números primos até 20:\n",
      "2 é primo\n",
      "3 é primo\n",
      "5 é primo\n",
      "7 é primo\n",
      "11 é primo\n",
      "13 é primo\n",
      "17 é primo\n",
      "19 é primo\n"
     ]
    }
   ],
   "source": [
    "# Exemplo de identificação de números primos:\n",
    "\n",
    "limite_superior = 20\n",
    "\n",
    "print(f\"Verificando números primos até {limite_superior}:\")\n",
    "for i in range(2, limite_superior + 1):\n",
    "    eh_primo = True\n",
    "    for j in range(2, int(i ** 0.5) + 1):\n",
    "        if i % j == 0:\n",
    "            eh_primo = False\n",
    "    if eh_primo:\n",
    "        print(i, \"é primo\")\n",
    "\n",
    "\n"
   ]
  }
 ],
 "metadata": {
  "kernelspec": {
   "display_name": "Python 3 (ipykernel)",
   "language": "python",
   "name": "python3"
  },
  "language_info": {
   "codemirror_mode": {
    "name": "ipython",
    "version": 3
   },
   "file_extension": ".py",
   "mimetype": "text/x-python",
   "name": "python",
   "nbconvert_exporter": "python",
   "pygments_lexer": "ipython3",
   "version": "3.10.12"
  }
 },
 "nbformat": 4,
 "nbformat_minor": 5
}
