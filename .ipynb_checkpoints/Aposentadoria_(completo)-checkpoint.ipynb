{
 "cells": [
  {
   "cell_type": "markdown",
   "metadata": {
    "colab_type": "text",
    "id": "view-in-github"
   },
   "source": [
    "<a href=\"https://colab.research.google.com/github/wmpjrufg/MCOMP001/blob/main/Aposentadoria_(completo).ipynb\" target=\"_parent\"><img src=\"https://colab.research.google.com/assets/colab-badge.svg\" alt=\"Open In Colab\"/></a>"
   ]
  },
  {
   "cell_type": "markdown",
   "metadata": {
    "id": "8cc_5uKnh---"
   },
   "source": [
    "# Desafio: Simulador de aposentadoria\n",
    "\n",
    "## Usaremos:\n",
    "- Variáveis: o que influencia o valor da aposentadoria? Ex.: taxa de juros obtida nos investimentos.\n",
    "- Loop: para calcular o saldo ao longo do tempo\n",
    "- Condicionais: para determinar se a poupança foi suficiente\n",
    "- Gráficos para visualizar simulações\n",
    "- Funções para organizar o código\n",
    "- Listas para guardar dados ao longo do tempo\n",
    "- Matplotlib para plotar o gráfico do saldo ao longo do tempo"
   ]
  },
  {
   "cell_type": "code",
   "execution_count": null,
   "metadata": {
    "id": "nbpci0RmirmY"
   },
   "outputs": [],
   "source": [
    "# Declarando variáveis\n",
    "saldo = 1000000        # Saldo inicial da conta de aposentadoria\n",
    "taxa_juros = 0.04      # Taxa de juros anual (4% ao ano)\n",
    "anos = 30              # Quantidade de anos para a aposentadoria\n",
    "saque_mensal = 10000   # Valor mensal a ser sacado na aposentadoria"
   ]
  },
  {
   "cell_type": "markdown",
   "metadata": {
    "id": "_jxksgsLyeQR"
   },
   "source": [
    "### Calculando o saldo ao longo do tempo: Quanto teremos ao longo de cada ano se não gastarmos nada?"
   ]
  },
  {
   "cell_type": "code",
   "execution_count": null,
   "metadata": {
    "colab": {
     "base_uri": "https://localhost:8080/"
    },
    "id": "5CoGHmrXjlOB",
    "outputId": "ba62e1f7-1d91-4ca4-ccec-142cc4a71c83"
   },
   "outputs": [
    {
     "name": "stdout",
     "output_type": "stream",
     "text": [
      "1040000.0\n",
      "1081600.0\n",
      "1124864.0\n",
      "1169858.56\n",
      "1216652.9024\n",
      "1265319.018496\n",
      "1315931.77923584\n",
      "1368569.0504052737\n",
      "1423311.8124214846\n",
      "1480244.284918344\n",
      "1539454.056315078\n",
      "1601032.218567681\n",
      "1665073.5073103884\n",
      "1731676.4476028038\n",
      "1800943.505506916\n",
      "1872981.2457271926\n",
      "1947900.4955562802\n",
      "2025816.5153785315\n",
      "2106849.1759936726\n",
      "2191123.1430334193\n",
      "2278768.068754756\n",
      "2369918.791504946\n",
      "2464715.543165144\n",
      "2563304.1648917496\n",
      "2665836.3314874195\n",
      "2772469.7847469165\n",
      "2883368.576136793\n",
      "2998703.3191822646\n",
      "3118651.4519495554\n",
      "3243397.5100275376\n"
     ]
    }
   ],
   "source": [
    "# Declarando variáveis\n",
    "saldo = 1000000  # Saldo inicial da conta de aposentadoria\n",
    "taxa_juros = 0.04      # Taxa de juros anual (4% ao ano)\n",
    "anos = 30              # Quantidade de anos para a aposentadoria\n",
    "saque_mensal = 10000    # Valor mensal a ser sacado na aposentadoria\n",
    "\n",
    "# Calculando o saldo ao longo do tempo: Quanto teremos ao longo de cada ano se não gastarmos nada?\n",
    "for ano in range(1, anos + 1):\n",
    "  saldo += saldo * (taxa_juros)\n",
    "  print(saldo)"
   ]
  },
  {
   "cell_type": "markdown",
   "metadata": {
    "id": "IPRLoyqayram"
   },
   "source": [
    "### Assim é fácil ficar rico! Não estamos gastando nada...\n",
    "### Mas, a não ser que você seja um monge, é bom considerar os gastos ao longo do tempo..."
   ]
  },
  {
   "cell_type": "code",
   "execution_count": null,
   "metadata": {
    "colab": {
     "base_uri": "https://localhost:8080/"
    },
    "id": "j0NDmE4Ajzzg",
    "outputId": "8f0bca52-ad33-46ea-d4ee-090185ec438b"
   },
   "outputs": [
    {
     "name": "stdout",
     "output_type": "stream",
     "text": [
      "920000.0\n",
      "836800.0\n",
      "750272.0\n",
      "660282.88\n",
      "566694.1952\n",
      "469361.96300799993\n",
      "368136.4415283199\n",
      "262861.8991894527\n",
      "153376.37515703082\n",
      "39511.43016331206\n",
      "-78908.11263015546\n",
      "-202064.43713536166\n",
      "-330147.0146207761\n",
      "-463352.8952056072\n",
      "-601887.0110138315\n",
      "-745962.4914543848\n",
      "-895800.9911125602\n",
      "-1051633.0307570626\n",
      "-1213698.3519873451\n",
      "-1382246.286066839\n",
      "-1557536.1375095125\n",
      "-1739837.583009893\n",
      "-1929431.0863302888\n",
      "-2126608.3297835\n",
      "-2331672.66297484\n",
      "-2544939.5694938335\n",
      "-2766737.152273587\n",
      "-2997406.6383645306\n",
      "-3237302.903899112\n",
      "-3486795.020055076\n"
     ]
    }
   ],
   "source": [
    "\n",
    "\n",
    "# Declarando variáveis\n",
    "saldo = 1000000  # Saldo inicial da conta de aposentadoria\n",
    "taxa_juros = 0.04      # Taxa de juros anual (4% ao ano)\n",
    "anos = 30              # Quantidade de anos para a aposentadoria\n",
    "saque_mensal = 10000    # Valor mensal a ser sacado na aposentadoria\n",
    "\n",
    "# Quanto teremos ao longo do tempo considerando os gastos mensais?\n",
    "for ano in range(1, anos + 1):\n",
    "  saldo += saldo * (taxa_juros)\n",
    "  saldo -= saque_mensal*12 # gastos mensais\n",
    "  print(saldo)"
   ]
  },
  {
   "cell_type": "markdown",
   "metadata": {
    "id": "1UyCoqyoyxEe"
   },
   "source": [
    "### Já sabemos quanto teremos ao final... se for menos que zero, isso é má notícia...\n",
    "### Vamos acrescentar um resultado baseado no saldo final."
   ]
  },
  {
   "cell_type": "code",
   "execution_count": null,
   "metadata": {
    "colab": {
     "base_uri": "https://localhost:8080/"
    },
    "id": "GGWmA4rck43Y",
    "outputId": "d3f72734-932d-4f77-cfc3-b907d346bbe9"
   },
   "outputs": [
    {
     "name": "stdout",
     "output_type": "stream",
     "text": [
      "Após 30 anos de aposentadoria, o saldo é de R$-3486795.02.\n",
      "Seu plano de aposentadoria é insuficiente.\n"
     ]
    }
   ],
   "source": [
    "# Declarando variáveis\n",
    "saldo = 1000000  # Saldo inicial da conta de aposentadoria\n",
    "taxa_juros = 0.04      # Taxa de juros anual (4% ao ano)\n",
    "anos = 30              # Quantidade de anos para a aposentadoria\n",
    "saque_mensal = 10000    # Valor mensal a ser sacado na aposentadoria\n",
    "\n",
    "for ano in range(1, anos + 1):\n",
    "  saldo += saldo * (taxa_juros)\n",
    "  saldo -= saque_mensal*12\n",
    "  # print(saldo)\n",
    "\n",
    "  # Verifica se o saldo é suficiente para a aposentadoria\n",
    "if saldo > 0:\n",
    "    resultado = \"suficiente\"\n",
    "else:\n",
    "    resultado = \"insuficiente\"\n",
    "\n",
    "print(f\"Após {anos} anos de aposentadoria, o saldo é de R${saldo:.2f}.\")\n",
    "print(f\"Seu plano de aposentadoria é {resultado}.\")"
   ]
  },
  {
   "cell_type": "markdown",
   "metadata": {
    "id": "dMkUS7eTy--K"
   },
   "source": [
    "### Gostei de poder simular minha aposentadoria... sinto que farei esses cálculos várias vezes e com diferentes parâmetros...\n",
    "### Acho que vou criar... uma FUNÇÃO!"
   ]
  },
  {
   "cell_type": "code",
   "execution_count": null,
   "metadata": {
    "colab": {
     "base_uri": "https://localhost:8080/"
    },
    "id": "_-6fUtqIm3TZ",
    "outputId": "39a92f19-4c19-4267-9498-3e6333872051"
   },
   "outputs": [
    {
     "name": "stdout",
     "output_type": "stream",
     "text": [
      "Após 30 anos de aposentadoria, o saldo é de R$-3486795.02.\n",
      "Seu plano de aposentadoria é insuficiente.\n"
     ]
    }
   ],
   "source": [
    "# Criando a função\n",
    "def calcular_aposentadoria(saldo, taxa_juros, anos, saque_mensal):\n",
    "  for ano in range(1, anos + 1):\n",
    "    saldo += saldo * (taxa_juros)\n",
    "    saldo -= saque_mensal*12\n",
    "\n",
    "  if saldo > 0:\n",
    "    resultado = \"suficiente\"\n",
    "  else:\n",
    "    resultado = \"insuficiente\"\n",
    "\n",
    "  return saldo, resultado\n",
    "\n",
    "# Chamando a função e guardando as funções em variáveis\n",
    "saldo, resultado = calcular_aposentadoria(1000000, 0.04, 30, 10000)\n",
    "\n",
    "# Imprimindo resultados\n",
    "print(f\"Após {anos} anos de aposentadoria, o saldo é de R${saldo:.2f}.\")\n",
    "print(f\"Seu plano de aposentadoria é {resultado}.\")"
   ]
  },
  {
   "cell_type": "markdown",
   "metadata": {
    "id": "2kZkltiLzHQt"
   },
   "source": [
    "### Bacana ter esse resultado na mão. Estou vendo que após 30 anos de aposentadoria estarei devendo até as cuecas.\n",
    "###  Melhor ainda seria visualizar a evolução do saldo ao longo do tempo, para poder ver quanto tempo minha poupança dura\n",
    "### Para isso, preciso guardar os saldos ao longo do tempo em alguma variável... Vou usar uma... LISTA de saldos!"
   ]
  },
  {
   "cell_type": "code",
   "execution_count": null,
   "metadata": {
    "colab": {
     "base_uri": "https://localhost:8080/"
    },
    "id": "-63uVtrEolig",
    "outputId": "759cd598-75a9-47ed-fb75-88fa3e9ba17e"
   },
   "outputs": [
    {
     "name": "stdout",
     "output_type": "stream",
     "text": [
      "Ao fim do primeiro ano, seu saldo era de R$920000.00.\n",
      "Após 30 anos de aposentadoria, o saldo é de R$-3486795.02.\n",
      "Seu plano de aposentadoria é insuficiente.\n"
     ]
    }
   ],
   "source": [
    "# Criando a função com array de saldos\n",
    "saldos = []  # Lista para armazenar o saldo em cada ano\n",
    "\n",
    "def calcular_aposentadoria(saldo, taxa_juros, anos, saque_mensal):\n",
    "  for ano in range(1, anos + 1):\n",
    "    saldo += saldo * (taxa_juros)\n",
    "    saldo -= saque_mensal*12\n",
    "    saldos.append(saldo)  # Adiciona o saldo do ano à lista\n",
    "\n",
    "  # Verifica se o último saldo da LISTA de saldos é maior que zero\n",
    "  if saldos[-1] > 0:\n",
    "    resultado = \"suficiente\"\n",
    "  else:\n",
    "    resultado = \"insuficiente\"\n",
    "\n",
    "  return saldos, resultado\n",
    "\n",
    "# Chamando a função e guardando as funções em variáveis\n",
    "saldos, resultado = calcular_aposentadoria(1000000, 0.04, 30, 10000)\n",
    "\n",
    "# Imprimindo resultados\n",
    "print(f\"Ao fim do primeiro ano, seu saldo era de R${saldos[0]:.2f}.\")\n",
    "print(f\"Após {anos} anos de aposentadoria, o saldo é de R${saldos[-1]:.2f}.\")\n",
    "print(f\"Seu plano de aposentadoria é {resultado}.\")"
   ]
  },
  {
   "cell_type": "markdown",
   "metadata": {
    "id": "xMxg4pBbzWNz"
   },
   "source": [
    "### Agora temos os saldos a cada ano gravados em uma LISTA. Vamos plotar o gráfico!"
   ]
  },
  {
   "cell_type": "code",
   "execution_count": null,
   "metadata": {
    "colab": {
     "base_uri": "https://localhost:8080/",
     "height": 541
    },
    "id": "1Y0RgYM7qFPN",
    "outputId": "e8776073-f361-4e14-cd1a-331927ae1242"
   },
   "outputs": [
    {
     "name": "stdout",
     "output_type": "stream",
     "text": [
      "Ao fim do primeiro ano, seu saldo era de R$920000.00.\n",
      "Após 30 anos de aposentadoria, o saldo é de R$-3486795.02.\n",
      "Seu plano de aposentadoria é insuficiente.\n"
     ]
    },
    {
     "data": {
      "image/png": "[encoded data removed]",
      "text/plain": [
       "<Figure size 640x480 with 1 Axes>"
      ]
     },
     "metadata": {},
     "output_type": "display_data"
    }
   ],
   "source": [
    "# Vamos usar uma biblioteca: Matplotlib!\n",
    "import matplotlib.pyplot as plt\n",
    "\n",
    "# Criando a função com array de saldos\n",
    "saldos = []  # Lista para armazenar o saldo em cada ano\n",
    "def calcular_aposentadoria(saldo, taxa_juros, anos, saque_mensal):\n",
    "  for ano in range(1, anos + 1):\n",
    "    saldo += saldo * (taxa_juros)\n",
    "    saldo -= saque_mensal*12\n",
    "    saldos.append(saldo)  # Adiciona o saldo do ano à lista\n",
    "\n",
    "  # Verifica se o último saldo da LISTA de saldos é maior que zero\n",
    "  if saldos[-1] > 0:\n",
    "    resultado = \"suficiente\"\n",
    "  else:\n",
    "    resultado = \"insuficiente\"\n",
    "\n",
    "  return saldos, resultado\n",
    "\n",
    "# Chamando a função e guardando as funções em variáveis\n",
    "saldos, resultado = calcular_aposentadoria(1000000, 0.04, 30, 10000)\n",
    "\n",
    "# Imprimindo resultados\n",
    "print(f\"Ao fim do primeiro ano, seu saldo era de R${saldos[0]:.2f}.\")\n",
    "print(f\"Após {anos} anos de aposentadoria, o saldo é de R${saldos[-1]:.2f}.\")\n",
    "print(f\"Seu plano de aposentadoria é {resultado}.\")\n",
    "\n",
    "# Plotagem do gráfico\n",
    "anos_simulados = list(range(1, anos + 1))\n",
    "plt.plot(anos_simulados, saldos)\n",
    "plt.xlabel(\"Anos de Aposentadoria\")\n",
    "plt.ylabel(\"Saldo (R$)\")\n",
    "plt.title(\"Evolução do Saldo de Aposentadoria ao Longo do Tempo\")\n",
    "plt.grid(True)\n",
    "plt.show()"
   ]
  },
  {
   "cell_type": "markdown",
   "metadata": {
    "id": "H-8Eywsszn3U"
   },
   "source": [
    "### E aí, como evoluiu o seu saldo? Eu terminei falido, infelizmente :'("
   ]
  }
 ],
 "metadata": {
  "colab": {
   "authorship_tag": "ABX9TyN0EZGXMAcpXYjHUsgCcdwr",
   "include_colab_link": true,
   "provenance": []
  },
  "kernelspec": {
   "display_name": "Python 3 (ipykernel)",
   "language": "python",
   "name": "python3"
  },
  "language_info": {
   "codemirror_mode": {
    "name": "ipython",
    "version": 3
   },
   "file_extension": ".py",
   "mimetype": "text/x-python",
   "name": "python",
   "nbconvert_exporter": "python",
   "pygments_lexer": "ipython3",
   "version": "3.10.12"
  }
 },
 "nbformat": 4,
 "nbformat_minor": 1
}
